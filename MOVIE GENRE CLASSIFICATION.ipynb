{
 "cells": [
  {
   "cell_type": "markdown",
   "id": "3201e00c-e32d-473c-b585-913f011cf0c2",
   "metadata": {},
   "source": [
    "# Developing a Machine Learning Model to Predict Movie Genres\n",
    "###  [Datasets](https://www.kaggle.com/datasets/hijest/genre-classification-dataset-imdb)"
   ]
  },
  {
   "cell_type": "code",
   "execution_count": 10,
   "id": "b7a7970e-54a5-47e4-b313-50c930a5d3be",
   "metadata": {},
   "outputs": [],
   "source": [
    "import pandas as pd\n",
    "import numpy as np\n",
    "import re\n",
    "import string\n",
    "from nltk.corpus import stopwords\n",
    "from nltk.tokenize import word_tokenize\n",
    "from nltk.stem import PorterStemmer\n",
    "from sklearn.feature_extraction.text import TfidfVectorizer\n",
    "from sklearn.model_selection import train_test_split\n",
    "from sklearn.feature_extraction.text import TfidfVectorizer\n",
    "from sklearn.naive_bayes import GaussianNB,MultinomialNB\n",
    "from sklearn.metrics import accuracy_score,precision_score"
   ]
  },
  {
   "cell_type": "code",
   "execution_count": 119,
   "id": "f5e0846a-dd9a-4206-8db2-2a134ae0594c",
   "metadata": {},
   "outputs": [],
   "source": [
    "train_df = pd.read_csv(\"data/train_data.txt\",sep=\":::\",header=None,engine=\"python\")\n",
    "test_df = pd.read_csv(\"data/test_data.txt\",sep=\":::\",header=None,engine=\"python\")"
   ]
  },
  {
   "cell_type": "code",
   "execution_count": 120,
   "id": "274b919d-0000-4f2d-9376-41e00a3fc6c5",
   "metadata": {},
   "outputs": [
    {
     "data": {
      "text/html": [
       "<div>\n",
       "<style scoped>\n",
       "    .dataframe tbody tr th:only-of-type {\n",
       "        vertical-align: middle;\n",
       "    }\n",
       "\n",
       "    .dataframe tbody tr th {\n",
       "        vertical-align: top;\n",
       "    }\n",
       "\n",
       "    .dataframe thead th {\n",
       "        text-align: right;\n",
       "    }\n",
       "</style>\n",
       "<table border=\"1\" class=\"dataframe\">\n",
       "  <thead>\n",
       "    <tr style=\"text-align: right;\">\n",
       "      <th></th>\n",
       "      <th>1</th>\n",
       "      <th>2</th>\n",
       "      <th>3</th>\n",
       "    </tr>\n",
       "  </thead>\n",
       "  <tbody>\n",
       "    <tr>\n",
       "      <th>0</th>\n",
       "      <td>Oscar et la dame rose (2009)</td>\n",
       "      <td>drama</td>\n",
       "      <td>Listening in to a conversation between his do...</td>\n",
       "    </tr>\n",
       "    <tr>\n",
       "      <th>1</th>\n",
       "      <td>Cupid (1997)</td>\n",
       "      <td>thriller</td>\n",
       "      <td>A brother and sister with a past incestuous r...</td>\n",
       "    </tr>\n",
       "    <tr>\n",
       "      <th>2</th>\n",
       "      <td>Young, Wild and Wonderful (1980)</td>\n",
       "      <td>adult</td>\n",
       "      <td>As the bus empties the students for their fie...</td>\n",
       "    </tr>\n",
       "    <tr>\n",
       "      <th>3</th>\n",
       "      <td>The Secret Sin (1915)</td>\n",
       "      <td>drama</td>\n",
       "      <td>To help their unemployed father make ends mee...</td>\n",
       "    </tr>\n",
       "    <tr>\n",
       "      <th>4</th>\n",
       "      <td>The Unrecovered (2007)</td>\n",
       "      <td>drama</td>\n",
       "      <td>The film's title refers not only to the un-re...</td>\n",
       "    </tr>\n",
       "  </tbody>\n",
       "</table>\n",
       "</div>"
      ],
      "text/plain": [
       "                                    1           2  \\\n",
       "0       Oscar et la dame rose (2009)       drama    \n",
       "1                       Cupid (1997)    thriller    \n",
       "2   Young, Wild and Wonderful (1980)       adult    \n",
       "3              The Secret Sin (1915)       drama    \n",
       "4             The Unrecovered (2007)       drama    \n",
       "\n",
       "                                                   3  \n",
       "0   Listening in to a conversation between his do...  \n",
       "1   A brother and sister with a past incestuous r...  \n",
       "2   As the bus empties the students for their fie...  \n",
       "3   To help their unemployed father make ends mee...  \n",
       "4   The film's title refers not only to the un-re...  "
      ]
     },
     "execution_count": 120,
     "metadata": {},
     "output_type": "execute_result"
    }
   ],
   "source": [
    "train_df = train_df.drop(columns=[0],axis=1)\n",
    "train_df.head()"
   ]
  },
  {
   "cell_type": "code",
   "execution_count": 121,
   "id": "e82e4814-8fa2-4795-a6a4-b0e6d9a4927c",
   "metadata": {},
   "outputs": [
    {
     "data": {
      "text/html": [
       "<div>\n",
       "<style scoped>\n",
       "    .dataframe tbody tr th:only-of-type {\n",
       "        vertical-align: middle;\n",
       "    }\n",
       "\n",
       "    .dataframe tbody tr th {\n",
       "        vertical-align: top;\n",
       "    }\n",
       "\n",
       "    .dataframe thead th {\n",
       "        text-align: right;\n",
       "    }\n",
       "</style>\n",
       "<table border=\"1\" class=\"dataframe\">\n",
       "  <thead>\n",
       "    <tr style=\"text-align: right;\">\n",
       "      <th></th>\n",
       "      <th>1</th>\n",
       "      <th>2</th>\n",
       "    </tr>\n",
       "  </thead>\n",
       "  <tbody>\n",
       "    <tr>\n",
       "      <th>0</th>\n",
       "      <td>Edgar's Lunch (1998)</td>\n",
       "      <td>L.R. Brane loves his life - his car, his apar...</td>\n",
       "    </tr>\n",
       "    <tr>\n",
       "      <th>1</th>\n",
       "      <td>La guerra de papá (1977)</td>\n",
       "      <td>Spain, March 1964: Quico is a very naughty ch...</td>\n",
       "    </tr>\n",
       "    <tr>\n",
       "      <th>2</th>\n",
       "      <td>Off the Beaten Track (2010)</td>\n",
       "      <td>One year in the life of Albin and his family ...</td>\n",
       "    </tr>\n",
       "    <tr>\n",
       "      <th>3</th>\n",
       "      <td>Meu Amigo Hindu (2015)</td>\n",
       "      <td>His father has died, he hasn't spoken with hi...</td>\n",
       "    </tr>\n",
       "    <tr>\n",
       "      <th>4</th>\n",
       "      <td>Er nu zhai (1955)</td>\n",
       "      <td>Before he was known internationally as a mart...</td>\n",
       "    </tr>\n",
       "    <tr>\n",
       "      <th>...</th>\n",
       "      <td>...</td>\n",
       "      <td>...</td>\n",
       "    </tr>\n",
       "    <tr>\n",
       "      <th>54195</th>\n",
       "      <td>\"Tales of Light &amp; Dark\" (2013)</td>\n",
       "      <td>Covering multiple genres, Tales of Light &amp; Da...</td>\n",
       "    </tr>\n",
       "    <tr>\n",
       "      <th>54196</th>\n",
       "      <td>Der letzte Mohikaner (1965)</td>\n",
       "      <td>As Alice and Cora Munro attempt to find their...</td>\n",
       "    </tr>\n",
       "    <tr>\n",
       "      <th>54197</th>\n",
       "      <td>Oliver Twink (2007)</td>\n",
       "      <td>A movie 169 years in the making. Oliver Twist...</td>\n",
       "    </tr>\n",
       "    <tr>\n",
       "      <th>54198</th>\n",
       "      <td>Slipstream (1973)</td>\n",
       "      <td>Popular, but mysterious rock D.J Mike Mallard...</td>\n",
       "    </tr>\n",
       "    <tr>\n",
       "      <th>54199</th>\n",
       "      <td>Curitiba Zero Grau (2010)</td>\n",
       "      <td>Curitiba is a city in movement, with rhythms ...</td>\n",
       "    </tr>\n",
       "  </tbody>\n",
       "</table>\n",
       "<p>54200 rows × 2 columns</p>\n",
       "</div>"
      ],
      "text/plain": [
       "                                      1  \\\n",
       "0                 Edgar's Lunch (1998)    \n",
       "1             La guerra de papá (1977)    \n",
       "2          Off the Beaten Track (2010)    \n",
       "3               Meu Amigo Hindu (2015)    \n",
       "4                    Er nu zhai (1955)    \n",
       "...                                 ...   \n",
       "54195   \"Tales of Light & Dark\" (2013)    \n",
       "54196      Der letzte Mohikaner (1965)    \n",
       "54197              Oliver Twink (2007)    \n",
       "54198                Slipstream (1973)    \n",
       "54199        Curitiba Zero Grau (2010)    \n",
       "\n",
       "                                                       2  \n",
       "0       L.R. Brane loves his life - his car, his apar...  \n",
       "1       Spain, March 1964: Quico is a very naughty ch...  \n",
       "2       One year in the life of Albin and his family ...  \n",
       "3       His father has died, he hasn't spoken with hi...  \n",
       "4       Before he was known internationally as a mart...  \n",
       "...                                                  ...  \n",
       "54195   Covering multiple genres, Tales of Light & Da...  \n",
       "54196   As Alice and Cora Munro attempt to find their...  \n",
       "54197   A movie 169 years in the making. Oliver Twist...  \n",
       "54198   Popular, but mysterious rock D.J Mike Mallard...  \n",
       "54199   Curitiba is a city in movement, with rhythms ...  \n",
       "\n",
       "[54200 rows x 2 columns]"
      ]
     },
     "execution_count": 121,
     "metadata": {},
     "output_type": "execute_result"
    }
   ],
   "source": [
    "test_df = test_df.drop(columns=[0],axis=1)\n",
    "test_df"
   ]
  },
  {
   "cell_type": "code",
   "execution_count": 122,
   "id": "edc56707-8089-4bd9-b1b2-7677981d2656",
   "metadata": {},
   "outputs": [],
   "source": [
    "train_df.rename(columns={1:\"movie\",2:\"genre\",3:\"overview\"},inplace=True)\n",
    "test_df.rename(columns={1:\"movie\",2:\"overview\"},inplace=True)"
   ]
  },
  {
   "cell_type": "code",
   "execution_count": 123,
   "id": "857d0700-0a24-4822-aafe-7ac357b76828",
   "metadata": {},
   "outputs": [
    {
     "data": {
      "text/html": [
       "<div>\n",
       "<style scoped>\n",
       "    .dataframe tbody tr th:only-of-type {\n",
       "        vertical-align: middle;\n",
       "    }\n",
       "\n",
       "    .dataframe tbody tr th {\n",
       "        vertical-align: top;\n",
       "    }\n",
       "\n",
       "    .dataframe thead th {\n",
       "        text-align: right;\n",
       "    }\n",
       "</style>\n",
       "<table border=\"1\" class=\"dataframe\">\n",
       "  <thead>\n",
       "    <tr style=\"text-align: right;\">\n",
       "      <th></th>\n",
       "      <th>movie</th>\n",
       "      <th>genre</th>\n",
       "      <th>overview</th>\n",
       "    </tr>\n",
       "  </thead>\n",
       "  <tbody>\n",
       "    <tr>\n",
       "      <th>count</th>\n",
       "      <td>54214</td>\n",
       "      <td>54214</td>\n",
       "      <td>54214</td>\n",
       "    </tr>\n",
       "    <tr>\n",
       "      <th>unique</th>\n",
       "      <td>54214</td>\n",
       "      <td>27</td>\n",
       "      <td>54086</td>\n",
       "    </tr>\n",
       "    <tr>\n",
       "      <th>top</th>\n",
       "      <td>Oscar et la dame rose (2009)</td>\n",
       "      <td>drama</td>\n",
       "      <td>Grammy - music award of the American academy ...</td>\n",
       "    </tr>\n",
       "    <tr>\n",
       "      <th>freq</th>\n",
       "      <td>1</td>\n",
       "      <td>13613</td>\n",
       "      <td>12</td>\n",
       "    </tr>\n",
       "  </tbody>\n",
       "</table>\n",
       "</div>"
      ],
      "text/plain": [
       "                                 movie    genre  \\\n",
       "count                            54214    54214   \n",
       "unique                           54214       27   \n",
       "top      Oscar et la dame rose (2009)    drama    \n",
       "freq                                 1    13613   \n",
       "\n",
       "                                                 overview  \n",
       "count                                               54214  \n",
       "unique                                              54086  \n",
       "top      Grammy - music award of the American academy ...  \n",
       "freq                                                   12  "
      ]
     },
     "execution_count": 123,
     "metadata": {},
     "output_type": "execute_result"
    }
   ],
   "source": [
    "train_df.describe()"
   ]
  },
  {
   "cell_type": "code",
   "execution_count": 124,
   "id": "af9502cc-d9e8-4014-a2aa-41ed5bef8f9e",
   "metadata": {},
   "outputs": [
    {
     "name": "stdout",
     "output_type": "stream",
     "text": [
      "<class 'pandas.core.frame.DataFrame'>\n",
      "RangeIndex: 54214 entries, 0 to 54213\n",
      "Data columns (total 3 columns):\n",
      " #   Column    Non-Null Count  Dtype \n",
      "---  ------    --------------  ----- \n",
      " 0   movie     54214 non-null  object\n",
      " 1   genre     54214 non-null  object\n",
      " 2   overview  54214 non-null  object\n",
      "dtypes: object(3)\n",
      "memory usage: 1.2+ MB\n"
     ]
    }
   ],
   "source": [
    "train_df.info()"
   ]
  },
  {
   "cell_type": "code",
   "execution_count": 125,
   "id": "076153f4-64ff-4769-ab48-f918a3c3dcd4",
   "metadata": {},
   "outputs": [
    {
     "data": {
      "text/plain": [
       "movie       0\n",
       "genre       0\n",
       "overview    0\n",
       "dtype: int64"
      ]
     },
     "execution_count": 125,
     "metadata": {},
     "output_type": "execute_result"
    }
   ],
   "source": [
    "train_df.isna().sum()"
   ]
  },
  {
   "cell_type": "code",
   "execution_count": 126,
   "id": "a193ee9f-4161-4763-ab7e-8d86a4576442",
   "metadata": {},
   "outputs": [
    {
     "data": {
      "text/plain": [
       "0"
      ]
     },
     "execution_count": 126,
     "metadata": {},
     "output_type": "execute_result"
    }
   ],
   "source": [
    "train_df.duplicated().sum()"
   ]
  },
  {
   "cell_type": "code",
   "execution_count": 127,
   "id": "481480cb-6032-4f0a-9b6b-9583c0a7abc1",
   "metadata": {},
   "outputs": [
    {
     "data": {
      "text/plain": [
       "' thriller '"
      ]
     },
     "execution_count": 127,
     "metadata": {},
     "output_type": "execute_result"
    }
   ],
   "source": [
    "train_df.genre[1]"
   ]
  },
  {
   "cell_type": "markdown",
   "id": "fae4700e-d699-474a-ae79-d599227fe81d",
   "metadata": {},
   "source": [
    "### Remove WhiteSpace"
   ]
  },
  {
   "cell_type": "code",
   "execution_count": 129,
   "id": "b3bb9972-285e-4eba-9860-37adeaa80a93",
   "metadata": {},
   "outputs": [],
   "source": [
    "def remove_whitespace(col):\n",
    "    return col.strip()"
   ]
  },
  {
   "cell_type": "code",
   "execution_count": 132,
   "id": "4c7cd4ad-0b02-4f58-93a6-7f779e3fbcd7",
   "metadata": {},
   "outputs": [],
   "source": [
    "train_df.genre = train_df.genre.apply(remove_whitespace)\n",
    "train_df.movie = train_df.movie.apply(remove_whitespace)\n",
    "train_df.overview = train_df.overview.apply(remove_whitespace)"
   ]
  },
  {
   "cell_type": "code",
   "execution_count": 136,
   "id": "cdb231c4-a5e4-4b48-a5f0-a6d551c3c165",
   "metadata": {},
   "outputs": [],
   "source": [
    "test_df.movie = test_df.movie.apply(remove_whitespace)\n",
    "test_df.overview = test_df.overview.apply(remove_whitespace)"
   ]
  },
  {
   "cell_type": "code",
   "execution_count": 143,
   "id": "11059e87-7725-4b05-9a5e-1163a0d9fc25",
   "metadata": {},
   "outputs": [
    {
     "data": {
      "text/html": [
       "<div>\n",
       "<style scoped>\n",
       "    .dataframe tbody tr th:only-of-type {\n",
       "        vertical-align: middle;\n",
       "    }\n",
       "\n",
       "    .dataframe tbody tr th {\n",
       "        vertical-align: top;\n",
       "    }\n",
       "\n",
       "    .dataframe thead th {\n",
       "        text-align: right;\n",
       "    }\n",
       "</style>\n",
       "<table border=\"1\" class=\"dataframe\">\n",
       "  <thead>\n",
       "    <tr style=\"text-align: right;\">\n",
       "      <th></th>\n",
       "      <th>movie</th>\n",
       "      <th>genre</th>\n",
       "      <th>overview</th>\n",
       "    </tr>\n",
       "  </thead>\n",
       "  <tbody>\n",
       "    <tr>\n",
       "      <th>0</th>\n",
       "      <td>Oscar et la dame rose (2009)</td>\n",
       "      <td>drama</td>\n",
       "      <td>Listening in to a conversation between his doc...</td>\n",
       "    </tr>\n",
       "    <tr>\n",
       "      <th>1</th>\n",
       "      <td>Cupid (1997)</td>\n",
       "      <td>thriller</td>\n",
       "      <td>A brother and sister with a past incestuous re...</td>\n",
       "    </tr>\n",
       "    <tr>\n",
       "      <th>2</th>\n",
       "      <td>Young, Wild and Wonderful (1980)</td>\n",
       "      <td>adult</td>\n",
       "      <td>As the bus empties the students for their fiel...</td>\n",
       "    </tr>\n",
       "    <tr>\n",
       "      <th>3</th>\n",
       "      <td>The Secret Sin (1915)</td>\n",
       "      <td>drama</td>\n",
       "      <td>To help their unemployed father make ends meet...</td>\n",
       "    </tr>\n",
       "    <tr>\n",
       "      <th>4</th>\n",
       "      <td>The Unrecovered (2007)</td>\n",
       "      <td>drama</td>\n",
       "      <td>The film's title refers not only to the un-rec...</td>\n",
       "    </tr>\n",
       "  </tbody>\n",
       "</table>\n",
       "</div>"
      ],
      "text/plain": [
       "                              movie     genre  \\\n",
       "0      Oscar et la dame rose (2009)     drama   \n",
       "1                      Cupid (1997)  thriller   \n",
       "2  Young, Wild and Wonderful (1980)     adult   \n",
       "3             The Secret Sin (1915)     drama   \n",
       "4            The Unrecovered (2007)     drama   \n",
       "\n",
       "                                            overview  \n",
       "0  Listening in to a conversation between his doc...  \n",
       "1  A brother and sister with a past incestuous re...  \n",
       "2  As the bus empties the students for their fiel...  \n",
       "3  To help their unemployed father make ends meet...  \n",
       "4  The film's title refers not only to the un-rec...  "
      ]
     },
     "execution_count": 143,
     "metadata": {},
     "output_type": "execute_result"
    }
   ],
   "source": [
    "train_df.head()"
   ]
  },
  {
   "cell_type": "markdown",
   "id": "f11ca13c-4685-497b-a8ed-71f5cc6a6d10",
   "metadata": {},
   "source": [
    "## Remove Punctuation"
   ]
  },
  {
   "cell_type": "code",
   "execution_count": 151,
   "id": "6a64cedc-d795-4740-9aac-6dc03753d86c",
   "metadata": {},
   "outputs": [],
   "source": [
    "def remove_punctuation(col):\n",
    "\n",
    "    text = \"\".join([word for word in col if word not in string.punctuation])\n",
    "    return text\n",
    "    col = col.lower()\n",
    "    for i in string.punctuation:\n",
    "        col = col.replace(i,\"\")\n",
    "    return col"
   ]
  },
  {
   "cell_type": "code",
   "execution_count": 153,
   "id": "c97c72a5-7d45-4b4f-81fa-423f1a59b3c2",
   "metadata": {},
   "outputs": [],
   "source": [
    "test_df.overview = test_df.overview.apply(remove_punctuation)"
   ]
  },
  {
   "cell_type": "code",
   "execution_count": 155,
   "id": "ebe9a528-1f92-4f9f-b725-3bdd638cdbbf",
   "metadata": {},
   "outputs": [],
   "source": [
    "train_df.overview = train_df.overview.apply(remove_punctuation)"
   ]
  },
  {
   "cell_type": "markdown",
   "id": "8d7bda73-82d9-4e21-9085-b55a2d4926e7",
   "metadata": {},
   "source": [
    "# word tokenize"
   ]
  },
  {
   "cell_type": "code",
   "execution_count": 157,
   "id": "35673dfd-8609-445c-b787-fe2d4354f0be",
   "metadata": {},
   "outputs": [],
   "source": [
    "from nltk.tokenize import word_tokenize"
   ]
  },
  {
   "cell_type": "code",
   "execution_count": 160,
   "id": "81483035-c8e6-4af1-beef-7b819ae9dd2e",
   "metadata": {},
   "outputs": [],
   "source": [
    "def word_token(col):\n",
    "    return word_tokenize(col)"
   ]
  },
  {
   "cell_type": "code",
   "execution_count": 162,
   "id": "86b0c677-bab1-4fb3-943b-640a7ab9fd62",
   "metadata": {},
   "outputs": [],
   "source": [
    "train_df.overview = train_df.overview.apply(word_token)"
   ]
  },
  {
   "cell_type": "code",
   "execution_count": 163,
   "id": "479e3ace-038c-4050-a002-58460656aa71",
   "metadata": {},
   "outputs": [],
   "source": [
    "test_df.overview = test_df.overview.apply(word_token)"
   ]
  },
  {
   "cell_type": "code",
   "execution_count": 164,
   "id": "45df2f82-57c8-4e0e-8e58-7c5a175a1852",
   "metadata": {},
   "outputs": [
    {
     "data": {
      "text/html": [
       "<div>\n",
       "<style scoped>\n",
       "    .dataframe tbody tr th:only-of-type {\n",
       "        vertical-align: middle;\n",
       "    }\n",
       "\n",
       "    .dataframe tbody tr th {\n",
       "        vertical-align: top;\n",
       "    }\n",
       "\n",
       "    .dataframe thead th {\n",
       "        text-align: right;\n",
       "    }\n",
       "</style>\n",
       "<table border=\"1\" class=\"dataframe\">\n",
       "  <thead>\n",
       "    <tr style=\"text-align: right;\">\n",
       "      <th></th>\n",
       "      <th>movie</th>\n",
       "      <th>genre</th>\n",
       "      <th>overview</th>\n",
       "    </tr>\n",
       "  </thead>\n",
       "  <tbody>\n",
       "    <tr>\n",
       "      <th>0</th>\n",
       "      <td>Oscar et la dame rose (2009)</td>\n",
       "      <td>drama</td>\n",
       "      <td>[Listening, in, to, a, conversation, between, ...</td>\n",
       "    </tr>\n",
       "    <tr>\n",
       "      <th>1</th>\n",
       "      <td>Cupid (1997)</td>\n",
       "      <td>thriller</td>\n",
       "      <td>[A, brother, and, sister, with, a, past, inces...</td>\n",
       "    </tr>\n",
       "    <tr>\n",
       "      <th>2</th>\n",
       "      <td>Young, Wild and Wonderful (1980)</td>\n",
       "      <td>adult</td>\n",
       "      <td>[As, the, bus, empties, the, students, for, th...</td>\n",
       "    </tr>\n",
       "    <tr>\n",
       "      <th>3</th>\n",
       "      <td>The Secret Sin (1915)</td>\n",
       "      <td>drama</td>\n",
       "      <td>[To, help, their, unemployed, father, make, en...</td>\n",
       "    </tr>\n",
       "    <tr>\n",
       "      <th>4</th>\n",
       "      <td>The Unrecovered (2007)</td>\n",
       "      <td>drama</td>\n",
       "      <td>[The, films, title, refers, not, only, to, the...</td>\n",
       "    </tr>\n",
       "  </tbody>\n",
       "</table>\n",
       "</div>"
      ],
      "text/plain": [
       "                              movie     genre  \\\n",
       "0      Oscar et la dame rose (2009)     drama   \n",
       "1                      Cupid (1997)  thriller   \n",
       "2  Young, Wild and Wonderful (1980)     adult   \n",
       "3             The Secret Sin (1915)     drama   \n",
       "4            The Unrecovered (2007)     drama   \n",
       "\n",
       "                                            overview  \n",
       "0  [Listening, in, to, a, conversation, between, ...  \n",
       "1  [A, brother, and, sister, with, a, past, inces...  \n",
       "2  [As, the, bus, empties, the, students, for, th...  \n",
       "3  [To, help, their, unemployed, father, make, en...  \n",
       "4  [The, films, title, refers, not, only, to, the...  "
      ]
     },
     "execution_count": 164,
     "metadata": {},
     "output_type": "execute_result"
    }
   ],
   "source": [
    "train_df.head(5)"
   ]
  },
  {
   "cell_type": "markdown",
   "id": "629d3ce8-3eb5-4328-a51e-c990c7db09e1",
   "metadata": {},
   "source": [
    "## StopWords"
   ]
  },
  {
   "cell_type": "code",
   "execution_count": 166,
   "id": "5a42f727-e14a-4fdc-bbb6-26822eaa1e86",
   "metadata": {},
   "outputs": [],
   "source": [
    "def remove_stopwords(col):\n",
    "    l = []\n",
    "    for i in col:\n",
    "        if i not in stopwords.words(\"english\"):\n",
    "          l.append(i)\n",
    "    return l"
   ]
  },
  {
   "cell_type": "code",
   "execution_count": 167,
   "id": "1a9f7f21-e03e-4a15-b084-7cf30603749b",
   "metadata": {},
   "outputs": [],
   "source": [
    "train_df.overview = train_df.overview.apply(remove_stopwords)"
   ]
  },
  {
   "cell_type": "code",
   "execution_count": 168,
   "id": "90897a16-dbd7-4196-9e87-d4b77aa9e1f6",
   "metadata": {},
   "outputs": [],
   "source": [
    "test_df.overview = test_df.overview.apply(remove_stopwords)"
   ]
  },
  {
   "cell_type": "markdown",
   "id": "9fa85195-0dac-4669-b6e0-938050e89522",
   "metadata": {},
   "source": [
    "##  Stemming"
   ]
  },
  {
   "cell_type": "code",
   "execution_count": 169,
   "id": "ac8343b0-1979-4237-bb7c-07338dfe1e92",
   "metadata": {},
   "outputs": [],
   "source": [
    "from nltk.stem import PorterStemmer\n",
    "ps= PorterStemmer()"
   ]
  },
  {
   "cell_type": "code",
   "execution_count": 170,
   "id": "84127b81-e407-47c0-a2e6-83d70d8b5fde",
   "metadata": {},
   "outputs": [],
   "source": [
    "def stemming(col):\n",
    "    l =[]\n",
    "    for i in col:\n",
    "        l.append(ps.stem(i))\n",
    "    return \" \".join(l)"
   ]
  },
  {
   "cell_type": "code",
   "execution_count": 171,
   "id": "b080b5c0-643c-474a-a881-705e0d4efd29",
   "metadata": {},
   "outputs": [
    {
     "data": {
      "text/html": [
       "<div>\n",
       "<style scoped>\n",
       "    .dataframe tbody tr th:only-of-type {\n",
       "        vertical-align: middle;\n",
       "    }\n",
       "\n",
       "    .dataframe tbody tr th {\n",
       "        vertical-align: top;\n",
       "    }\n",
       "\n",
       "    .dataframe thead th {\n",
       "        text-align: right;\n",
       "    }\n",
       "</style>\n",
       "<table border=\"1\" class=\"dataframe\">\n",
       "  <thead>\n",
       "    <tr style=\"text-align: right;\">\n",
       "      <th></th>\n",
       "      <th>movie</th>\n",
       "      <th>genre</th>\n",
       "      <th>overview</th>\n",
       "    </tr>\n",
       "  </thead>\n",
       "  <tbody>\n",
       "    <tr>\n",
       "      <th>0</th>\n",
       "      <td>Oscar et la dame rose (2009)</td>\n",
       "      <td>drama</td>\n",
       "      <td>[Listening, conversation, doctor, parents, 10y...</td>\n",
       "    </tr>\n",
       "    <tr>\n",
       "      <th>1</th>\n",
       "      <td>Cupid (1997)</td>\n",
       "      <td>thriller</td>\n",
       "      <td>[A, brother, sister, past, incestuous, relatio...</td>\n",
       "    </tr>\n",
       "    <tr>\n",
       "      <th>2</th>\n",
       "      <td>Young, Wild and Wonderful (1980)</td>\n",
       "      <td>adult</td>\n",
       "      <td>[As, bus, empties, students, field, trip, Muse...</td>\n",
       "    </tr>\n",
       "    <tr>\n",
       "      <th>3</th>\n",
       "      <td>The Secret Sin (1915)</td>\n",
       "      <td>drama</td>\n",
       "      <td>[To, help, unemployed, father, make, ends, mee...</td>\n",
       "    </tr>\n",
       "    <tr>\n",
       "      <th>4</th>\n",
       "      <td>The Unrecovered (2007)</td>\n",
       "      <td>drama</td>\n",
       "      <td>[The, films, title, refers, unrecovered, bodie...</td>\n",
       "    </tr>\n",
       "  </tbody>\n",
       "</table>\n",
       "</div>"
      ],
      "text/plain": [
       "                              movie     genre  \\\n",
       "0      Oscar et la dame rose (2009)     drama   \n",
       "1                      Cupid (1997)  thriller   \n",
       "2  Young, Wild and Wonderful (1980)     adult   \n",
       "3             The Secret Sin (1915)     drama   \n",
       "4            The Unrecovered (2007)     drama   \n",
       "\n",
       "                                            overview  \n",
       "0  [Listening, conversation, doctor, parents, 10y...  \n",
       "1  [A, brother, sister, past, incestuous, relatio...  \n",
       "2  [As, bus, empties, students, field, trip, Muse...  \n",
       "3  [To, help, unemployed, father, make, ends, mee...  \n",
       "4  [The, films, title, refers, unrecovered, bodie...  "
      ]
     },
     "execution_count": 171,
     "metadata": {},
     "output_type": "execute_result"
    }
   ],
   "source": [
    "train_df.head()"
   ]
  },
  {
   "cell_type": "code",
   "execution_count": 172,
   "id": "893b1dfa-d03c-4e17-9e63-8a391fd816f0",
   "metadata": {},
   "outputs": [],
   "source": [
    "train_df.overview = train_df.overview.apply(stemming)\n",
    "test_df.overview = test_df.overview.apply(stemming)"
   ]
  },
  {
   "cell_type": "markdown",
   "id": "a53d5ead-afc6-4be3-8630-a0790c4625fb",
   "metadata": {},
   "source": [
    "##  Export the Preprocessing Data"
   ]
  },
  {
   "cell_type": "code",
   "execution_count": 173,
   "id": "4c2e55fd-295a-44bb-9f1d-287d87d3447c",
   "metadata": {},
   "outputs": [
    {
     "data": {
      "text/html": [
       "<div>\n",
       "<style scoped>\n",
       "    .dataframe tbody tr th:only-of-type {\n",
       "        vertical-align: middle;\n",
       "    }\n",
       "\n",
       "    .dataframe tbody tr th {\n",
       "        vertical-align: top;\n",
       "    }\n",
       "\n",
       "    .dataframe thead th {\n",
       "        text-align: right;\n",
       "    }\n",
       "</style>\n",
       "<table border=\"1\" class=\"dataframe\">\n",
       "  <thead>\n",
       "    <tr style=\"text-align: right;\">\n",
       "      <th></th>\n",
       "      <th>movie</th>\n",
       "      <th>genre</th>\n",
       "      <th>overview</th>\n",
       "    </tr>\n",
       "  </thead>\n",
       "  <tbody>\n",
       "    <tr>\n",
       "      <th>0</th>\n",
       "      <td>Oscar et la dame rose (2009)</td>\n",
       "      <td>drama</td>\n",
       "      <td>listen convers doctor parent 10yearold oscar l...</td>\n",
       "    </tr>\n",
       "    <tr>\n",
       "      <th>1</th>\n",
       "      <td>Cupid (1997)</td>\n",
       "      <td>thriller</td>\n",
       "      <td>a brother sister past incestu relationship cur...</td>\n",
       "    </tr>\n",
       "    <tr>\n",
       "      <th>2</th>\n",
       "      <td>Young, Wild and Wonderful (1980)</td>\n",
       "      <td>adult</td>\n",
       "      <td>as bu empti student field trip museum natur hi...</td>\n",
       "    </tr>\n",
       "    <tr>\n",
       "      <th>3</th>\n",
       "      <td>The Secret Sin (1915)</td>\n",
       "      <td>drama</td>\n",
       "      <td>to help unemploy father make end meet edith tw...</td>\n",
       "    </tr>\n",
       "    <tr>\n",
       "      <th>4</th>\n",
       "      <td>The Unrecovered (2007)</td>\n",
       "      <td>drama</td>\n",
       "      <td>the film titl refer unrecov bodi ground zero a...</td>\n",
       "    </tr>\n",
       "    <tr>\n",
       "      <th>...</th>\n",
       "      <td>...</td>\n",
       "      <td>...</td>\n",
       "      <td>...</td>\n",
       "    </tr>\n",
       "    <tr>\n",
       "      <th>54209</th>\n",
       "      <td>\"Bonino\" (1953)</td>\n",
       "      <td>comedy</td>\n",
       "      <td>thi shortliv nbc live sitcom center bonino wor...</td>\n",
       "    </tr>\n",
       "    <tr>\n",
       "      <th>54210</th>\n",
       "      <td>Dead Girls Don't Cry (????)</td>\n",
       "      <td>horror</td>\n",
       "      <td>the next gener exploit the sister kapa bay sor...</td>\n",
       "    </tr>\n",
       "    <tr>\n",
       "      <th>54211</th>\n",
       "      <td>Ronald Goedemondt: Ze bestaan echt (2008)</td>\n",
       "      <td>documentary</td>\n",
       "      <td>ze bestaan echt standup comedi grow face fear ...</td>\n",
       "    </tr>\n",
       "    <tr>\n",
       "      <th>54212</th>\n",
       "      <td>Make Your Own Bed (1944)</td>\n",
       "      <td>comedy</td>\n",
       "      <td>walter vivian live countri difficult time keep...</td>\n",
       "    </tr>\n",
       "    <tr>\n",
       "      <th>54213</th>\n",
       "      <td>Nature's Fury: Storm of the Century (2006)</td>\n",
       "      <td>history</td>\n",
       "      <td>on labor day weekend 1935 intens hurrican ever...</td>\n",
       "    </tr>\n",
       "  </tbody>\n",
       "</table>\n",
       "<p>54214 rows × 3 columns</p>\n",
       "</div>"
      ],
      "text/plain": [
       "                                            movie        genre  \\\n",
       "0                    Oscar et la dame rose (2009)        drama   \n",
       "1                                    Cupid (1997)     thriller   \n",
       "2                Young, Wild and Wonderful (1980)        adult   \n",
       "3                           The Secret Sin (1915)        drama   \n",
       "4                          The Unrecovered (2007)        drama   \n",
       "...                                           ...          ...   \n",
       "54209                             \"Bonino\" (1953)       comedy   \n",
       "54210                 Dead Girls Don't Cry (????)       horror   \n",
       "54211   Ronald Goedemondt: Ze bestaan echt (2008)  documentary   \n",
       "54212                    Make Your Own Bed (1944)       comedy   \n",
       "54213  Nature's Fury: Storm of the Century (2006)      history   \n",
       "\n",
       "                                                overview  \n",
       "0      listen convers doctor parent 10yearold oscar l...  \n",
       "1      a brother sister past incestu relationship cur...  \n",
       "2      as bu empti student field trip museum natur hi...  \n",
       "3      to help unemploy father make end meet edith tw...  \n",
       "4      the film titl refer unrecov bodi ground zero a...  \n",
       "...                                                  ...  \n",
       "54209  thi shortliv nbc live sitcom center bonino wor...  \n",
       "54210  the next gener exploit the sister kapa bay sor...  \n",
       "54211  ze bestaan echt standup comedi grow face fear ...  \n",
       "54212  walter vivian live countri difficult time keep...  \n",
       "54213  on labor day weekend 1935 intens hurrican ever...  \n",
       "\n",
       "[54214 rows x 3 columns]"
      ]
     },
     "execution_count": 173,
     "metadata": {},
     "output_type": "execute_result"
    }
   ],
   "source": [
    "train_df"
   ]
  },
  {
   "cell_type": "code",
   "execution_count": 185,
   "id": "12d5c1c0-e61a-4c36-826b-8d9c005f51a6",
   "metadata": {},
   "outputs": [],
   "source": [
    "test_df.to_csv(\"data/clean_test_df.csv\")"
   ]
  },
  {
   "cell_type": "code",
   "execution_count": 187,
   "id": "0c0fb074-c7ba-4da5-bbb2-c61654571660",
   "metadata": {},
   "outputs": [],
   "source": [
    "train_df.to_csv(\"data/clean_train_df.csv\")"
   ]
  },
  {
   "cell_type": "markdown",
   "id": "d46625f1-9bed-49f5-8ecb-0b11dcd2bc6f",
   "metadata": {},
   "source": [
    "# Import Preprocessing Data"
   ]
  },
  {
   "cell_type": "code",
   "execution_count": 592,
   "id": "07ae52a2-a332-4315-a606-e7f37c563e43",
   "metadata": {},
   "outputs": [],
   "source": [
    "train_df = pd.read_csv(\"data/clean_train_df.csv\")\n",
    "test_df= pd.read_csv(\"data/clean_test_df.csv\")"
   ]
  },
  {
   "cell_type": "code",
   "execution_count": 593,
   "id": "bb56a981-1a76-491b-80ec-fa908facc68b",
   "metadata": {},
   "outputs": [],
   "source": [
    "drama = train_df[train_df.genre == \"drama\"][:200]\n",
    "documentary =  train_df[train_df.genre ==\"documentary\"][:300]\n",
    "comedy = train_df[train_df.genre ==\"comedy\"][:300]\n",
    "short = train_df[train_df.genre ==\"short\"][:300]\n",
    "thriller = train_df[train_df.genre ==\"thriller\"][:700]\n",
    "action = train_df[train_df.genre ==\"action\"][:700]\n",
    "horror = train_df[train_df.genre ==\"horror\"][:500]\n",
    "western = train_df[train_df.genre ==\"western\"][:200]\n",
    "family = train_df[train_df.genre ==\"family\"][:300]"
   ]
  },
  {
   "cell_type": "code",
   "execution_count": 594,
   "id": "bd3823cd-5e71-46f5-91fe-0c32622c9d65",
   "metadata": {},
   "outputs": [],
   "source": [
    "train_df =train_df[~train_df.genre.isin([\"horror\",\"family\",\"drama\", \"documentary\", \"comedy\", \"short\", \"thriller\", \"action\", \"western\",\"reality-tv\",\"music\",\"romance\"])]\n",
    "train_df = pd.concat([drama,documentary,comedy,short,thriller,action,horror,western,train_df,family])"
   ]
  },
  {
   "cell_type": "code",
   "execution_count": 595,
   "id": "82b7f72d-c72d-4c39-ab10-bca89207c65d",
   "metadata": {},
   "outputs": [],
   "source": [
    "del train_df[\"Unnamed: 0\"]"
   ]
  },
  {
   "cell_type": "code",
   "execution_count": 596,
   "id": "022b2bb2-4380-4a9f-92a4-7477a5c73e1e",
   "metadata": {},
   "outputs": [],
   "source": [
    "del test_df[\"Unnamed: 0\"]"
   ]
  },
  {
   "cell_type": "code",
   "execution_count": 597,
   "id": "861f00d7-42c5-40f2-9e4e-83b0adcd4f5c",
   "metadata": {},
   "outputs": [
    {
     "data": {
      "text/html": [
       "<div>\n",
       "<style scoped>\n",
       "    .dataframe tbody tr th:only-of-type {\n",
       "        vertical-align: middle;\n",
       "    }\n",
       "\n",
       "    .dataframe tbody tr th {\n",
       "        vertical-align: top;\n",
       "    }\n",
       "\n",
       "    .dataframe thead th {\n",
       "        text-align: right;\n",
       "    }\n",
       "</style>\n",
       "<table border=\"1\" class=\"dataframe\">\n",
       "  <thead>\n",
       "    <tr style=\"text-align: right;\">\n",
       "      <th></th>\n",
       "      <th>movie</th>\n",
       "      <th>genre</th>\n",
       "      <th>overview</th>\n",
       "    </tr>\n",
       "  </thead>\n",
       "  <tbody>\n",
       "    <tr>\n",
       "      <th>0</th>\n",
       "      <td>Oscar et la dame rose (2009)</td>\n",
       "      <td>drama</td>\n",
       "      <td>listen convers doctor parent 10yearold oscar l...</td>\n",
       "    </tr>\n",
       "    <tr>\n",
       "      <th>3</th>\n",
       "      <td>The Secret Sin (1915)</td>\n",
       "      <td>drama</td>\n",
       "      <td>to help unemploy father make end meet edith tw...</td>\n",
       "    </tr>\n",
       "    <tr>\n",
       "      <th>4</th>\n",
       "      <td>The Unrecovered (2007)</td>\n",
       "      <td>drama</td>\n",
       "      <td>the film titl refer unrecov bodi ground zero a...</td>\n",
       "    </tr>\n",
       "    <tr>\n",
       "      <th>11</th>\n",
       "      <td>In the Gloaming (1997)</td>\n",
       "      <td>drama</td>\n",
       "      <td>danni die aid return home last month alway clo...</td>\n",
       "    </tr>\n",
       "    <tr>\n",
       "      <th>14</th>\n",
       "      <td>The Glass Menagerie (1973)</td>\n",
       "      <td>drama</td>\n",
       "      <td>amanda wingfield domin children fade gentil ex...</td>\n",
       "    </tr>\n",
       "  </tbody>\n",
       "</table>\n",
       "</div>"
      ],
      "text/plain": [
       "                           movie  genre  \\\n",
       "0   Oscar et la dame rose (2009)  drama   \n",
       "3          The Secret Sin (1915)  drama   \n",
       "4         The Unrecovered (2007)  drama   \n",
       "11        In the Gloaming (1997)  drama   \n",
       "14    The Glass Menagerie (1973)  drama   \n",
       "\n",
       "                                             overview  \n",
       "0   listen convers doctor parent 10yearold oscar l...  \n",
       "3   to help unemploy father make end meet edith tw...  \n",
       "4   the film titl refer unrecov bodi ground zero a...  \n",
       "11  danni die aid return home last month alway clo...  \n",
       "14  amanda wingfield domin children fade gentil ex...  "
      ]
     },
     "execution_count": 597,
     "metadata": {},
     "output_type": "execute_result"
    }
   ],
   "source": [
    "train_df.head(5)"
   ]
  },
  {
   "cell_type": "code",
   "execution_count": 602,
   "id": "62f9b3da-637d-42a7-97f2-a99289758988",
   "metadata": {},
   "outputs": [],
   "source": [
    "tfidf = TfidfVectorizer(max_features=1000)"
   ]
  },
  {
   "cell_type": "code",
   "execution_count": 605,
   "id": "c20dd077-db9c-411e-96bd-d54e45c5bdbc",
   "metadata": {},
   "outputs": [
    {
     "data": {
      "text/plain": [
       "array([[0.        , 0.        , 0.        , ..., 0.        , 0.        ,\n",
       "        0.        ],\n",
       "       [0.        , 0.        , 0.        , ..., 0.        , 0.        ,\n",
       "        0.        ],\n",
       "       [0.        , 0.        , 0.        , ..., 0.        , 0.        ,\n",
       "        0.        ],\n",
       "       ...,\n",
       "       [0.        , 0.        , 0.        , ..., 0.        , 0.        ,\n",
       "        0.        ],\n",
       "       [0.        , 0.        , 0.        , ..., 0.17464228, 0.        ,\n",
       "        0.        ],\n",
       "       [0.        , 0.        , 0.        , ..., 0.        , 0.        ,\n",
       "        0.        ]])"
      ]
     },
     "execution_count": 605,
     "metadata": {},
     "output_type": "execute_result"
    }
   ],
   "source": [
    "x = tfidf.fit_transform(train_df.overview).toarray()\n",
    "x"
   ]
  },
  {
   "cell_type": "code",
   "execution_count": 606,
   "id": "59cff1eb-b174-4185-92c4-b3e5508a8c3c",
   "metadata": {},
   "outputs": [
    {
     "data": {
      "text/plain": [
       "array(['drama', 'drama', 'drama', ..., 'family', 'family', 'family'],\n",
       "      dtype=object)"
      ]
     },
     "execution_count": 606,
     "metadata": {},
     "output_type": "execute_result"
    }
   ],
   "source": [
    "y = train_df.genre.values\n",
    "y"
   ]
  },
  {
   "cell_type": "code",
   "execution_count": 608,
   "id": "6fd7d8d7-5023-491e-bd90-6516b2575f6a",
   "metadata": {
    "scrolled": true
   },
   "outputs": [],
   "source": [
    "x_train,x_test,y_train,y_test = train_test_split(x,y,test_size=0.2,random_state=42)"
   ]
  },
  {
   "cell_type": "code",
   "execution_count": 609,
   "id": "e82cf2d1-df77-49d3-ad9c-7c28246cf21e",
   "metadata": {},
   "outputs": [],
   "source": [
    "mnb = MultinomialNB()\n",
    "gnb = GaussianNB()"
   ]
  },
  {
   "cell_type": "code",
   "execution_count": 610,
   "id": "fea7d800-1d0a-4e8f-a624-bff1915e9380",
   "metadata": {},
   "outputs": [
    {
     "data": {
      "text/html": [
       "<style>#sk-container-id-12 {color: black;background-color: white;}#sk-container-id-12 pre{padding: 0;}#sk-container-id-12 div.sk-toggleable {background-color: white;}#sk-container-id-12 label.sk-toggleable__label {cursor: pointer;display: block;width: 100%;margin-bottom: 0;padding: 0.3em;box-sizing: border-box;text-align: center;}#sk-container-id-12 label.sk-toggleable__label-arrow:before {content: \"▸\";float: left;margin-right: 0.25em;color: #696969;}#sk-container-id-12 label.sk-toggleable__label-arrow:hover:before {color: black;}#sk-container-id-12 div.sk-estimator:hover label.sk-toggleable__label-arrow:before {color: black;}#sk-container-id-12 div.sk-toggleable__content {max-height: 0;max-width: 0;overflow: hidden;text-align: left;background-color: #f0f8ff;}#sk-container-id-12 div.sk-toggleable__content pre {margin: 0.2em;color: black;border-radius: 0.25em;background-color: #f0f8ff;}#sk-container-id-12 input.sk-toggleable__control:checked~div.sk-toggleable__content {max-height: 200px;max-width: 100%;overflow: auto;}#sk-container-id-12 input.sk-toggleable__control:checked~label.sk-toggleable__label-arrow:before {content: \"▾\";}#sk-container-id-12 div.sk-estimator input.sk-toggleable__control:checked~label.sk-toggleable__label {background-color: #d4ebff;}#sk-container-id-12 div.sk-label input.sk-toggleable__control:checked~label.sk-toggleable__label {background-color: #d4ebff;}#sk-container-id-12 input.sk-hidden--visually {border: 0;clip: rect(1px 1px 1px 1px);clip: rect(1px, 1px, 1px, 1px);height: 1px;margin: -1px;overflow: hidden;padding: 0;position: absolute;width: 1px;}#sk-container-id-12 div.sk-estimator {font-family: monospace;background-color: #f0f8ff;border: 1px dotted black;border-radius: 0.25em;box-sizing: border-box;margin-bottom: 0.5em;}#sk-container-id-12 div.sk-estimator:hover {background-color: #d4ebff;}#sk-container-id-12 div.sk-parallel-item::after {content: \"\";width: 100%;border-bottom: 1px solid gray;flex-grow: 1;}#sk-container-id-12 div.sk-label:hover label.sk-toggleable__label {background-color: #d4ebff;}#sk-container-id-12 div.sk-serial::before {content: \"\";position: absolute;border-left: 1px solid gray;box-sizing: border-box;top: 0;bottom: 0;left: 50%;z-index: 0;}#sk-container-id-12 div.sk-serial {display: flex;flex-direction: column;align-items: center;background-color: white;padding-right: 0.2em;padding-left: 0.2em;position: relative;}#sk-container-id-12 div.sk-item {position: relative;z-index: 1;}#sk-container-id-12 div.sk-parallel {display: flex;align-items: stretch;justify-content: center;background-color: white;position: relative;}#sk-container-id-12 div.sk-item::before, #sk-container-id-12 div.sk-parallel-item::before {content: \"\";position: absolute;border-left: 1px solid gray;box-sizing: border-box;top: 0;bottom: 0;left: 50%;z-index: -1;}#sk-container-id-12 div.sk-parallel-item {display: flex;flex-direction: column;z-index: 1;position: relative;background-color: white;}#sk-container-id-12 div.sk-parallel-item:first-child::after {align-self: flex-end;width: 50%;}#sk-container-id-12 div.sk-parallel-item:last-child::after {align-self: flex-start;width: 50%;}#sk-container-id-12 div.sk-parallel-item:only-child::after {width: 0;}#sk-container-id-12 div.sk-dashed-wrapped {border: 1px dashed gray;margin: 0 0.4em 0.5em 0.4em;box-sizing: border-box;padding-bottom: 0.4em;background-color: white;}#sk-container-id-12 div.sk-label label {font-family: monospace;font-weight: bold;display: inline-block;line-height: 1.2em;}#sk-container-id-12 div.sk-label-container {text-align: center;}#sk-container-id-12 div.sk-container {/* jupyter's `normalize.less` sets `[hidden] { display: none; }` but bootstrap.min.css set `[hidden] { display: none !important; }` so we also need the `!important` here to be able to override the default hidden behavior on the sphinx rendered scikit-learn.org. See: https://github.com/scikit-learn/scikit-learn/issues/21755 */display: inline-block !important;position: relative;}#sk-container-id-12 div.sk-text-repr-fallback {display: none;}</style><div id=\"sk-container-id-12\" class=\"sk-top-container\"><div class=\"sk-text-repr-fallback\"><pre>GaussianNB()</pre><b>In a Jupyter environment, please rerun this cell to show the HTML representation or trust the notebook. <br />On GitHub, the HTML representation is unable to render, please try loading this page with nbviewer.org.</b></div><div class=\"sk-container\" hidden><div class=\"sk-item\"><div class=\"sk-estimator sk-toggleable\"><input class=\"sk-toggleable__control sk-hidden--visually\" id=\"sk-estimator-id-12\" type=\"checkbox\" checked><label for=\"sk-estimator-id-12\" class=\"sk-toggleable__label sk-toggleable__label-arrow\">GaussianNB</label><div class=\"sk-toggleable__content\"><pre>GaussianNB()</pre></div></div></div></div></div>"
      ],
      "text/plain": [
       "GaussianNB()"
      ]
     },
     "execution_count": 610,
     "metadata": {},
     "output_type": "execute_result"
    }
   ],
   "source": [
    "mnb.fit(x_train,y_train)\n",
    "gnb.fit(x_train,y_train)"
   ]
  },
  {
   "cell_type": "code",
   "execution_count": 611,
   "id": "fd17d963-d186-4c6f-b10f-e2137221a478",
   "metadata": {},
   "outputs": [],
   "source": [
    "y_pred1 = mnb.predict(x_test)\n",
    "y_pred2 = gnb.predict(x_test)"
   ]
  },
  {
   "cell_type": "code",
   "execution_count": 612,
   "id": "af756243-eb74-42ce-914f-2f15266f66b0",
   "metadata": {},
   "outputs": [
    {
     "name": "stdout",
     "output_type": "stream",
     "text": [
      "0.3816711590296496\n",
      "0.1628032345013477\n"
     ]
    }
   ],
   "source": [
    "accuracy1 = accuracy_score(y_test,y_pred1)\n",
    "accuracy2 = accuracy_score(y_test,y_pred2)\n",
    "print(accuracy1)\n",
    "print(accuracy2)"
   ]
  },
  {
   "cell_type": "code",
   "execution_count": 613,
   "id": "b3e9bb80-1da1-4ad8-b481-c3c2a0ca3e9f",
   "metadata": {},
   "outputs": [
    {
     "name": "stdout",
     "output_type": "stream",
     "text": [
      "0.45077715429126447\n",
      "0.18146287203305436\n"
     ]
    }
   ],
   "source": [
    "p1 = precision_score(y_test,y_pred1,average=\"macro\",zero_division=False)\n",
    "p2 = precision_score(y_test,y_pred2,average=\"macro\")\n",
    "print(p1)\n",
    "print(p2)"
   ]
  },
  {
   "cell_type": "markdown",
   "id": "86dde134-4510-4535-8f47-7d34d56c2d5d",
   "metadata": {},
   "source": [
    "## Death Note"
   ]
  },
  {
   "cell_type": "code",
   "execution_count": 619,
   "id": "8ba8ab47-432e-4dd1-bfce-574326bfabcf",
   "metadata": {},
   "outputs": [],
   "source": [
    "death_note=\"An intelligent high school student goes on a secret crusade to eliminate criminals from the world after discovering a notebook capable of killing anyone whose name is written into it.\""
   ]
  },
  {
   "cell_type": "markdown",
   "id": "16335112-4025-4799-aba2-46f5f28b625d",
   "metadata": {},
   "source": [
    "## Iron Man"
   ]
  },
  {
   "cell_type": "code",
   "execution_count": 643,
   "id": "977e8f32-0e70-468e-a215-964f28605dda",
   "metadata": {},
   "outputs": [],
   "source": [
    "iron_man= \"Tony Stark. Genius, billionaire, playboy, philanthropist. Son of legendary inventor and weapons contractor Howard Stark. When Tony Stark is assigned to give a weapons presentation to an Iraqi unit led by Lt. Col. James Rhodes, he's given a ride on enemy lines. That ride ends badly when Stark's Humvee that he's riding in is attacked by enemy combatants. He survives - barely - with a chest full of shrapnel and a car battery attached to his heart. In order to survive he comes up with a way to miniaturize the battery and figures out that the battery can power something else. Thus Iron Man is born. He uses the primitive device to escape from the cave in Iraq. Once back home, he then begins work on perfecting the Iron Man suit. But the man who was put in charge of Stark Industries has plans of his own to take over Tonys technology for other matters.\""
   ]
  },
  {
   "cell_type": "code",
   "execution_count": 655,
   "id": "2ecc3283-6581-4efb-97bb-1aab7235dfde",
   "metadata": {},
   "outputs": [
    {
     "data": {
      "text/plain": [
       "'action'"
      ]
     },
     "execution_count": 655,
     "metadata": {},
     "output_type": "execute_result"
    }
   ],
   "source": [
    "mnb.predict(tfidf.transform([iron_man]))[0]"
   ]
  },
  {
   "cell_type": "code",
   "execution_count": null,
   "id": "cdd785e0-866d-421f-8ae5-48ce31829bd8",
   "metadata": {},
   "outputs": [],
   "source": []
  },
  {
   "cell_type": "code",
   "execution_count": null,
   "id": "6afb4b49-9ffb-4925-b26c-3e04aec2d61b",
   "metadata": {},
   "outputs": [],
   "source": []
  },
  {
   "cell_type": "code",
   "execution_count": null,
   "id": "dc961ccd-f839-4096-93d1-9c363dd586af",
   "metadata": {},
   "outputs": [],
   "source": []
  },
  {
   "cell_type": "code",
   "execution_count": null,
   "id": "7bbc1654-56f5-4a29-b365-6bb7f1672cd5",
   "metadata": {},
   "outputs": [],
   "source": []
  },
  {
   "cell_type": "code",
   "execution_count": null,
   "id": "b5c99d2a-fb21-433b-b0a0-9be3dee3c9e5",
   "metadata": {},
   "outputs": [],
   "source": []
  },
  {
   "cell_type": "code",
   "execution_count": null,
   "id": "fbf1f13e-348e-4a0d-97d3-8636f31b241e",
   "metadata": {},
   "outputs": [],
   "source": []
  }
 ],
 "metadata": {
  "kernelspec": {
   "display_name": "Python 3 (ipykernel)",
   "language": "python",
   "name": "python3"
  },
  "language_info": {
   "codemirror_mode": {
    "name": "ipython",
    "version": 3
   },
   "file_extension": ".py",
   "mimetype": "text/x-python",
   "name": "python",
   "nbconvert_exporter": "python",
   "pygments_lexer": "ipython3",
   "version": "3.11.7"
  }
 },
 "nbformat": 4,
 "nbformat_minor": 5
}
